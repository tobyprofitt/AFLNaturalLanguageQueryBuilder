{
 "cells": [
  {
   "cell_type": "code",
   "execution_count": 22,
   "metadata": {},
   "outputs": [],
   "source": [
    "import requests\n",
    "import pandas as pd\n",
    "import datetime\n",
    "import time\n",
    "from tqdm import tqdm\n",
    "pd.set_option('display.max_columns', None)"
   ]
  },
  {
   "cell_type": "code",
   "execution_count": 15,
   "metadata": {},
   "outputs": [
    {
     "data": {
      "text/html": [
       "<div>\n",
       "<style scoped>\n",
       "    .dataframe tbody tr th:only-of-type {\n",
       "        vertical-align: middle;\n",
       "    }\n",
       "\n",
       "    .dataframe tbody tr th {\n",
       "        vertical-align: top;\n",
       "    }\n",
       "\n",
       "    .dataframe thead th {\n",
       "        text-align: right;\n",
       "    }\n",
       "</style>\n",
       "<table border=\"1\" class=\"dataframe\">\n",
       "  <thead>\n",
       "    <tr style=\"text-align: right;\">\n",
       "      <th></th>\n",
       "      <th>hscore</th>\n",
       "      <th>year</th>\n",
       "      <th>hgoals</th>\n",
       "      <th>unixtime</th>\n",
       "      <th>ateam</th>\n",
       "      <th>id</th>\n",
       "      <th>ascore</th>\n",
       "      <th>agoals</th>\n",
       "      <th>timestr</th>\n",
       "      <th>hteam</th>\n",
       "      <th>is_grand_final</th>\n",
       "      <th>tz</th>\n",
       "      <th>localtime</th>\n",
       "      <th>winner</th>\n",
       "      <th>round</th>\n",
       "      <th>hbehinds</th>\n",
       "      <th>winnerteamid</th>\n",
       "      <th>updated</th>\n",
       "      <th>date</th>\n",
       "      <th>ateamid</th>\n",
       "      <th>roundname</th>\n",
       "      <th>abehinds</th>\n",
       "      <th>is_final</th>\n",
       "      <th>hteamid</th>\n",
       "      <th>venue</th>\n",
       "      <th>complete</th>\n",
       "    </tr>\n",
       "  </thead>\n",
       "  <tbody>\n",
       "    <tr>\n",
       "      <th>0</th>\n",
       "      <td>90</td>\n",
       "      <td>2023</td>\n",
       "      <td>12</td>\n",
       "      <td>1696048200</td>\n",
       "      <td>Brisbane Lions</td>\n",
       "      <td>34682</td>\n",
       "      <td>86</td>\n",
       "      <td>13</td>\n",
       "      <td>Full Time</td>\n",
       "      <td>Collingwood</td>\n",
       "      <td>1</td>\n",
       "      <td>+10:00</td>\n",
       "      <td>2023-09-30 14:30:00</td>\n",
       "      <td>Collingwood</td>\n",
       "      <td>28</td>\n",
       "      <td>18</td>\n",
       "      <td>4</td>\n",
       "      <td>2023-09-30 17:21:43</td>\n",
       "      <td>2023-09-30 14:30:00</td>\n",
       "      <td>2</td>\n",
       "      <td>Grand Final</td>\n",
       "      <td>8</td>\n",
       "      <td>6</td>\n",
       "      <td>4</td>\n",
       "      <td>M.C.G.</td>\n",
       "      <td>100</td>\n",
       "    </tr>\n",
       "  </tbody>\n",
       "</table>\n",
       "</div>"
      ],
      "text/plain": [
       "   hscore  year  hgoals    unixtime           ateam     id  ascore  agoals  \\\n",
       "0      90  2023      12  1696048200  Brisbane Lions  34682      86      13   \n",
       "\n",
       "     timestr        hteam  is_grand_final      tz            localtime  \\\n",
       "0  Full Time  Collingwood               1  +10:00  2023-09-30 14:30:00   \n",
       "\n",
       "        winner  round  hbehinds  winnerteamid              updated  \\\n",
       "0  Collingwood     28        18             4  2023-09-30 17:21:43   \n",
       "\n",
       "                  date  ateamid    roundname  abehinds  is_final  hteamid  \\\n",
       "0  2023-09-30 14:30:00        2  Grand Final         8         6        4   \n",
       "\n",
       "    venue  complete  \n",
       "0  M.C.G.       100  "
      ]
     },
     "execution_count": 15,
     "metadata": {},
     "output_type": "execute_result"
    }
   ],
   "source": [
    "# test games api https://api.squiggle.com.au/?q=games;year=2017;round=1\n",
    "headers = {\n",
    "    'User-Agent': 'AFLNaturalLanguageQueryBuilder/1.0 (tobyprofitt1@gmail.com)'\n",
    "}\n",
    "year = 2023\n",
    "round = 28\n",
    "r = requests.get('https://api.squiggle.com.au/?q=games;year={};round={}'.format(year, round), headers=headers)\n",
    "games = r.json()\n",
    "games_df = pd.DataFrame(games['games'])\n",
    "games_df.head()"
   ]
  },
  {
   "cell_type": "code",
   "execution_count": 23,
   "metadata": {},
   "outputs": [
    {
     "name": "stderr",
     "output_type": "stream",
     "text": [
      "  0%|          | 0/28 [00:00<?, ?it/s]"
     ]
    },
    {
     "name": "stderr",
     "output_type": "stream",
     "text": [
      "100%|██████████| 28/28 [18:47<00:00, 40.27s/it]\n"
     ]
    }
   ],
   "source": [
    "def get_all_match_data(headers):\n",
    "    data = {}\n",
    "    current_year = datetime.datetime.now().year\n",
    "    years = range(1996, current_year+1)\n",
    "    rounds = range(1, 29)\n",
    "    for year in tqdm(years):\n",
    "        for round in rounds:\n",
    "            r = requests.get('https://api.squiggle.com.au/?q=games;year={};round={}'.format(year, round), headers=headers)\n",
    "            games = r.json()\n",
    "            games_df = pd.DataFrame(games['games'])\n",
    "            data['{}-{}'.format(year, round)] = games_df\n",
    "            time.sleep(1)\n",
    "    return data\n",
    "\n",
    "headers = {\n",
    "    'User-Agent': 'AFLNaturalLanguageQueryBuilder/1.0 (tobyprofitt1@gmail.com)'\n",
    "}\n",
    "\n",
    "data = get_all_match_data(headers)"
   ]
  }
 ],
 "metadata": {
  "kernelspec": {
   "display_name": "Python 3",
   "language": "python",
   "name": "python3"
  },
  "language_info": {
   "codemirror_mode": {
    "name": "ipython",
    "version": 3
   },
   "file_extension": ".py",
   "mimetype": "text/x-python",
   "name": "python",
   "nbconvert_exporter": "python",
   "pygments_lexer": "ipython3",
   "version": "3.9.0"
  }
 },
 "nbformat": 4,
 "nbformat_minor": 2
}
