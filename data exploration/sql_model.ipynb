{
 "cells": [
  {
   "cell_type": "code",
   "execution_count": 1,
   "metadata": {},
   "outputs": [
    {
     "name": "stderr",
     "output_type": "stream",
     "text": [
      "CUDA extension not installed.\n",
      "CUDA extension not installed.\n"
     ]
    },
    {
     "ename": "",
     "evalue": "",
     "output_type": "error",
     "traceback": [
      "\u001b[1;31mThe Kernel crashed while executing code in the the current cell or a previous cell. Please review the code in the cell(s) to identify a possible cause of the failure. Click <a href='https://aka.ms/vscodeJupyterKernelCrash'>here</a> for more info. View Jupyter <a href='command:jupyter.viewOutput'>log</a> for further details."
     ]
    }
   ],
   "source": [
    "from transformers import AutoModelForCausalLM, AutoTokenizer\n",
    "\n",
    "tokenizer = AutoTokenizer.from_pretrained(\"TheBloke/sqlcoder2-GPTQ\")\n",
    "model = AutoModelForCausalLM.from_pretrained(\"TheBloke/sqlcoder2-GPTQ\")\n"
   ]
  },
  {
   "cell_type": "code",
   "execution_count": null,
   "metadata": {},
   "outputs": [],
   "source": [
    "query = \"\"\"\n",
    "## Task\n",
    "Generate a SQL query to answer the following question:\n",
    "`{}`\n",
    "\n",
    "### Database Schema\n",
    "This query will run on a database whose schema is represented in this string:\n",
    "\n",
    "CREATE TABLE public.player_stats (\n",
    "\tround varchar NOT NULL, -- 1-23, `QF` for Qualifying Final, `SF``: Semi-final etc.\n",
    "  -- note that in 2010 there were 2 grand finals, named `GF`` and `GF2`` respectively.\n",
    "\t'year' int4 NOT NULL,\n",
    "\tplayer_id int4 NOT NULL,\n",
    "\tplayer_name varchar(255) NULL,\n",
    "\tteam varchar(50) NULL, -- stored as 2 letter strings and follow this mapping:\n",
    "  -- keys:values {{'RI': Richmond Tigers, 'CA': Carlton Blues, 'CW': Collingwood Magpies,\n",
    "  'GE': Geelong Cats, 'NM': North Melbourne, 'WC': West Coast, 'PA': Port Adelaide,\n",
    "  'BL': Brisbane Lions, 'SY': Sydney Swans, 'GC': Gold Coast Suns, 'ME': Melbourne Demons,\n",
    "  'WB': Western Bulldogs, 'AD': Adelaide Crows, 'GW':Greater Western Sydney (GWS) Giants,\n",
    "  'HW': Hawthorn Hawks, 'ES': Essendon Bombers, 'SK': St Kilda Saints, 'FR': Freo Dockers}}\n",
    "\topponent varchar(50) NULL, -- Same mapping as above.\n",
    "\tkicks int4 NULL,\n",
    "\tmarks int4 NULL,\n",
    "\thand_balls int4 NULL,\n",
    "\tdisp int4 NULL, -- disposals = kicks + hand_balls\n",
    "\tgoals int4 NULL, -- worth 6 points\n",
    "\tbehinds int4 NULL, -- worth 1 point\n",
    "\thit_outs int4 NULL,\n",
    "\ttackles int4 NULL,\n",
    "\trebounds int4 NULL,\n",
    "\tinside_50 int4 NULL,\n",
    "\tclearances int4 NULL,\n",
    "\tclangers int4 NULL,\n",
    "\tfrees_for int4 NULL,\n",
    "\tfrees_against int4 NULL,\n",
    "\tbrownlow int4 NULL, -- votes towards the Brownlow medal, awarded to the best player of the season without suspension (3, 2, 1 votes)\n",
    "\tcontested_possessions int4 NULL,\n",
    "\tuncontested_possessions int4 NULL,\n",
    "\tcontested_marks int4 NULL,\n",
    "\tmarks_inside_50 int4 NULL,\n",
    "\tone_percenters int4 NULL,\n",
    "\tbounces int4 NULL,\n",
    "\tgoal_assists int4 NULL,\n",
    "\tpercent_time_played int4 NULL,\n",
    "\tCONSTRAINT player_stats_pkey PRIMARY KEY (round, year, player_id)\n",
    ");\n",
    "\n",
    "### SQL\n",
    "Given the database schema, here is the SQL query that answers `{}`:\n",
    "```sql\n",
    "\"\"\"\n",
    "\n",
    "def generate_sql(prompt, llm):\n",
    "    entire_prompt = query.format(prompt, prompt)\n",
    "    return llm(entire_prompt)"
   ]
  },
  {
   "cell_type": "code",
   "execution_count": null,
   "metadata": {},
   "outputs": [],
   "source": [
    "'''\n",
    "-- public.player_stats definition\n",
    "\n",
    "-- Drop table\n",
    "\n",
    "-- DROP TABLE public.player_stats;\n",
    "\n",
    "CREATE TABLE public.player_stats (\n",
    "\tround varchar NOT NULL,\n",
    "\t\"year\" int4 NOT NULL,\n",
    "\tplayer_id int4 NOT NULL,\n",
    "\tplayer_name varchar(255) NULL,\n",
    "\tteam varchar(50) NULL,\n",
    "\topponent varchar(50) NULL,\n",
    "\tkicks int4 NULL,\n",
    "\tmarks int4 NULL,\n",
    "\thand_balls int4 NULL,\n",
    "\n",
    "\tCONSTRAINT player_stats_pkey PRIMARY KEY (round, year, player_id)\n",
    ");'''"
   ]
  }
 ],
 "metadata": {
  "kernelspec": {
   "display_name": "Python 3",
   "language": "python",
   "name": "python3"
  },
  "language_info": {
   "codemirror_mode": {
    "name": "ipython",
    "version": 3
   },
   "file_extension": ".py",
   "mimetype": "text/x-python",
   "name": "python",
   "nbconvert_exporter": "python",
   "pygments_lexer": "ipython3",
   "version": "3.9.0"
  }
 },
 "nbformat": 4,
 "nbformat_minor": 2
}
