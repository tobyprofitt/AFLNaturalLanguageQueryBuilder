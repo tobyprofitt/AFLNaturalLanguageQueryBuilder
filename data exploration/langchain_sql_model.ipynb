{
 "cells": [
  {
   "cell_type": "code",
   "execution_count": 2,
   "metadata": {},
   "outputs": [],
   "source": [
    "from dotenv import load_dotenv\n",
    "import os"
   ]
  },
  {
   "cell_type": "code",
   "execution_count": 3,
   "metadata": {},
   "outputs": [],
   "source": [
    "load_dotenv()\n",
    "\n",
    "secret_key = os.getenv('SQL_KEY')\n",
    "OPENAI_API_KEY = os.getenv('OPENAI_API_KEY')"
   ]
  },
  {
   "cell_type": "code",
   "execution_count": 4,
   "metadata": {},
   "outputs": [],
   "source": [
    "from langchain.llms import OpenAI\n",
    "from langchain.utilities import SQLDatabase\n",
    "from langchain_experimental.sql import SQLDatabaseChain\n",
    "\n",
    "db = SQLDatabase.from_uri(\"sqlite:///../afl.db\", sample_rows_in_table_info=10)\n",
    "llm = OpenAI(temperature=0, verbose=True)\n",
    "db_chain = SQLDatabaseChain.from_llm(llm, db, verbose=True, top_k = 20)"
   ]
  },
  {
   "cell_type": "code",
   "execution_count": 5,
   "metadata": {},
   "outputs": [],
   "source": [
    "TEMPLATE = \"\"\"You are Anthony (Huddo) Hudson, an AFL commentator and stat expert. You also know SQL and have access to an SQLite3 database of AFL statistics.\n",
    "Given an input question, first create a syntactically correct SQLite3 query to run, then look at the results of the query and return the answer.\n",
    "Use the following format:\n",
    "\n",
    "Question: \"Question here\"\n",
    "SQLQuery: \"SQL Query to run\"\n",
    "SQLResult: \"Result of the SQLQuery\"\n",
    "Answer: \"Final answer here\"\n",
    "\n",
    "Only use the following tables:\n",
    "\n",
    "player_stats and game.\n",
    "\n",
    "Few shot examples:\n",
    "Question: \"How many goals did Zak Butters kick in 2023?\"\n",
    "SQLQuery: \"SELECT SUM(goals) FROM player_stats WHERE player_name = 'Zak Butters' AND year = 2023\"\n",
    "\n",
    "Question: \"How many goals did Max Gawn kick last year?\"\n",
    "SQLQuery = \"SELECT goals FROM player_stats WHERE player_name = 'Max Gawn' AND year = strftime('%Y', date('now', '-1 year'))\"\n",
    "\n",
    "Whenever you are asked a question, please return additional information that might be implied by the question, such as what year or round a statistic is from.\n",
    "\n",
    "If you get no result from the query, return \"No result\", and suggest a new query to run.\n",
    "\n",
    "Question: {user_question}\"\"\""
   ]
  },
  {
   "cell_type": "code",
   "execution_count": 41,
   "metadata": {},
   "outputs": [
    {
     "name": "stdout",
     "output_type": "stream",
     "text": [
      "\n",
      "\n",
      "\u001b[1m> Entering new SQLDatabaseChain chain...\u001b[0m\n",
      "You are Anthony (Huddo) Hudson, an AFL commentator and stat expert. You also know SQL and have access to an SQLite3 database of AFL statistics.\n",
      "Given an input question, first create a syntactically correct SQLite3 query to run, then look at the results of the query and return the answer.\n",
      "Use the following format:\n",
      "\n",
      "Question: \"Question here\"\n",
      "SQLQuery: \"SQL Query to run\"\n",
      "SQLResult: \"Result of the SQLQuery\"\n",
      "Answer: \"Final answer here\"\n",
      "\n",
      "Only use the following tables:\n",
      "\n",
      "player_stats and game.\n",
      "\n",
      "Whenever you are asked a question, please return additional information that might be implied by the question, such as what year or round a statistic is from.\n",
      "\n",
      "If you get no result from the query, return \"No result\", and suggest a new query to run.\n",
      "\n",
      "Question: In how many games did Christian Petracca have more disposals than Clayton Oliver in 2022?\n",
      "SQLQuery:\u001b[32;1m\u001b[1;3mSELECT COUNT(*) FROM player_stats ps1 JOIN player_stats ps2 ON ps1.game_id = ps2.game_id WHERE ps1.player_name = 'Christian Petracca' AND ps2.player_name = 'Clayton Oliver' AND ps1.year = 2022 AND ps1.disp > ps2.disp;\u001b[0m\n",
      "SQLResult: \u001b[33;1m\u001b[1;3m[(5,)]\u001b[0m\n",
      "Answer:\u001b[32;1m\u001b[1;3mChristian Petracca had more disposals than Clayton Oliver in 5 games in 2022.\u001b[0m\n",
      "\u001b[1m> Finished chain.\u001b[0m\n"
     ]
    },
    {
     "data": {
      "text/plain": [
       "'Christian Petracca had more disposals than Clayton Oliver in 5 games in 2022.'"
      ]
     },
     "execution_count": 41,
     "metadata": {},
     "output_type": "execute_result"
    }
   ],
   "source": [
    "user_question = \"In how many games did Christian Petracca have more disposals than Clayton Oliver in 2022?\"\n",
    "db_chain.run(TEMPLATE.format(user_question=user_question))"
   ]
  },
  {
   "cell_type": "code",
   "execution_count": 42,
   "metadata": {},
   "outputs": [
    {
     "name": "stdout",
     "output_type": "stream",
     "text": [
      "\n",
      "\n",
      "\u001b[1m> Entering new SQLDatabaseChain chain...\u001b[0m\n",
      "You are Anthony (Huddo) Hudson, an AFL commentator and stat expert. You also know SQL and have access to an SQLite3 database of AFL statistics.\n",
      "Given an input question, first create a syntactically correct SQLite3 query to run, then look at the results of the query and return the answer.\n",
      "Use the following format:\n",
      "\n",
      "Question: \"Question here\"\n",
      "SQLQuery: \"SQL Query to run\"\n",
      "SQLResult: \"Result of the SQLQuery\"\n",
      "Answer: \"Final answer here\"\n",
      "\n",
      "Only use the following tables:\n",
      "\n",
      "player_stats and game.\n",
      "\n",
      "Whenever you are asked a question, please return additional information that might be implied by the question, such as what year or round a statistic is from.\n",
      "\n",
      "If you get no result from the query, return \"No result\", and suggest a new query to run.\n",
      "\n",
      "Question: How many times has Harris Andrews had more One Percenters than anyone else in that game?\n",
      "SQLQuery:\u001b[32;1m\u001b[1;3mSELECT COUNT(*) FROM player_stats ps1 JOIN player_stats ps2 ON ps1.game_id = ps2.game_id WHERE ps1.player_name = 'Harris Andrews' AND ps1.one_percenters > ps2.one_percenters;\u001b[0m\n",
      "SQLResult: \u001b[33;1m\u001b[1;3m[(7697,)]\u001b[0m\n",
      "Answer:\u001b[32;1m\u001b[1;3mHarris Andrews has had more One Percenters than anyone else in that game 7697 times.\u001b[0m\n",
      "\u001b[1m> Finished chain.\u001b[0m\n"
     ]
    },
    {
     "data": {
      "text/plain": [
       "'Harris Andrews has had more One Percenters than anyone else in that game 7697 times.'"
      ]
     },
     "execution_count": 42,
     "metadata": {},
     "output_type": "execute_result"
    }
   ],
   "source": [
    "user_question = \"How many times has Harris Andrews had more One Percenters than anyone else in that game?\"\n",
    "db_chain.run(TEMPLATE.format(user_question=user_question))\n",
    "# SELECT COUNT(*) FROM player_stats WHERE one_percenters = (SELECT MAX(one_percenters) FROM player_stats WHERE player_name = 'Harris Andrews');\n",
    "# SELECT COUNT(*) FROM player_stats WHERE player_name = 'Harris Andrews' AND one_percenters = (SELECT MAX(one_percenters) FROM player_stats);\n",
    "# BOTH WRONG. I THINK IT NEEDS TO BE GIVEN A MATCH_ID IN THE DATABASE.\n"
   ]
  },
  {
   "cell_type": "code",
   "execution_count": 43,
   "metadata": {},
   "outputs": [
    {
     "name": "stdout",
     "output_type": "stream",
     "text": [
      "\n",
      "\n",
      "\u001b[1m> Entering new SQLDatabaseChain chain...\u001b[0m\n",
      "You are Anthony (Huddo) Hudson, an AFL commentator and stat expert. You also know SQL and have access to an SQLite3 database of AFL statistics.\n",
      "Given an input question, first create a syntactically correct SQLite3 query to run, then look at the results of the query and return the answer.\n",
      "Use the following format:\n",
      "\n",
      "Question: \"Question here\"\n",
      "SQLQuery: \"SQL Query to run\"\n",
      "SQLResult: \"Result of the SQLQuery\"\n",
      "Answer: \"Final answer here\"\n",
      "\n",
      "Only use the following tables:\n",
      "\n",
      "player_stats and game.\n",
      "\n",
      "Whenever you are asked a question, please return additional information that might be implied by the question, such as what year or round a statistic is from.\n",
      "\n",
      "If you get no result from the query, return \"No result\", and suggest a new query to run.\n",
      "\n",
      "Question: What is the lowest number of disposals for which a player has received 3 brownlow votes?\n",
      "SQLQuery:\u001b[32;1m\u001b[1;3mSELECT MIN(disp) FROM player_stats WHERE brownlow = 3;\u001b[0m\n",
      "SQLResult: \u001b[33;1m\u001b[1;3m[(7,)]\u001b[0m\n",
      "Answer:\u001b[32;1m\u001b[1;3mThe lowest number of disposals for which a player has received 3 brownlow votes is 7.\u001b[0m\n",
      "\u001b[1m> Finished chain.\u001b[0m\n"
     ]
    },
    {
     "data": {
      "text/plain": [
       "'The lowest number of disposals for which a player has received 3 brownlow votes is 7.'"
      ]
     },
     "execution_count": 43,
     "metadata": {},
     "output_type": "execute_result"
    }
   ],
   "source": [
    "user_question = \"What is the lowest number of disposals for which a player has received 3 brownlow votes?\"\n",
    "db_chain.run(TEMPLATE.format(user_question=user_question))\n",
    "# Correct!"
   ]
  },
  {
   "cell_type": "code",
   "execution_count": 12,
   "metadata": {},
   "outputs": [
    {
     "name": "stdout",
     "output_type": "stream",
     "text": [
      "\n",
      "\n",
      "\u001b[1m> Entering new SQLDatabaseChain chain...\u001b[0m\n",
      "How many games have Christian Petracca and Clayton Oliver played together?\n",
      "SQLQuery:\u001b[32;1m\u001b[1;3mSELECT COUNT(*) FROM player_stats WHERE player_name IN ('Christian Petracca', 'Clayton Oliver') GROUP BY round, year HAVING COUNT(*) > 1;\u001b[0m\n",
      "SQLResult: \u001b[33;1m\u001b[1;3m[(2,), (2,), (2,), (2,), (2,), (2,), (2,), (2,), (2,), (2,), (2,), (2,), (2,), (2,), (2,), (2,), (2,), (2,), (2,), (2,), (2,), (2,), (2,), (2,), (2,), (2,), (2,), (2,), (2,), (2,), (2,), (2,), (2,), (2,), (2,), (2,), (2,), (2,), (2,), (2,), (2,), (2,), (2,), (2,), (2,), (2,), (2,), (2,), (2,), (2,), (2,), (2,), (2,), (2,), (2,), (2,), (2,), (2,), (2,), (2,), (2,), (2,), (2,), (2,), (2,), (2,), (2,), (2,), (2,), (2,), (2,), (2,), (2,), (2,), (2,), (2,), (2,), (2,), (2,), (2,), (2,), (2,), (2,), (2,), (2,), (2,), (2,), (2,), (2,), (2,), (2,), (2,), (2,), (2,), (2,), (2,), (2,), (2,), (2,), (2,), (2,), (2,), (2,), (2,), (2,), (2,), (2,), (2,), (2,), (2,), (2,), (2,), (2,), (2,), (2,), (2,), (2,), (2,), (2,), (2,), (2,), (2,), (2,), (2,), (2,), (2,), (2,), (2,), (2,), (2,), (2,), (2,), (2,), (2,), (2,), (2,), (2,), (2,), (2,), (2,), (2,), (2,), (2,), (2,), (2,), (2,), (2,), (2,), (2,), (2,), (2,), (2,), (2,), (2,), (2,), (2,), (2,)]\u001b[0m\n",
      "Answer:\u001b[32;1m\u001b[1;3mChristian Petracca and Clayton Oliver have played together in 92 games.\u001b[0m\n",
      "\u001b[1m> Finished chain.\u001b[0m\n"
     ]
    },
    {
     "data": {
      "text/plain": [
       "'Christian Petracca and Clayton Oliver have played together in 92 games.'"
      ]
     },
     "execution_count": 12,
     "metadata": {},
     "output_type": "execute_result"
    }
   ],
   "source": [
    "db_chain.run(\"How many games have Christian Petracca and Clayton Oliver played together?\")"
   ]
  },
  {
   "cell_type": "code",
   "execution_count": 44,
   "metadata": {},
   "outputs": [
    {
     "name": "stdout",
     "output_type": "stream",
     "text": [
      "\n",
      "\n",
      "\u001b[1m> Entering new SQLDatabaseChain chain...\u001b[0m\n",
      "What are the top 5 games by disposals but 0 brownlow votes? Who, when, and how many disposals?\n",
      "SQLQuery:\u001b[32;1m\u001b[1;3mSELECT player_name, date, disp FROM player_stats JOIN game ON player_stats.game_id = game.game_id WHERE brownlow = 0 ORDER BY disp DESC LIMIT 5;\u001b[0m\n",
      "SQLResult: \u001b[33;1m\u001b[1;3m[('Matt Crouch', '2019-08-25 13:10:00', 47), ('Tom Mitchell', '2018-05-20 15:20:00', 46), ('Lachie Neale', '2021-08-28 19:30:00', 46), ('Matt Priddis', '2008-06-27 19:40:00', 45), ('Matthew Boyd', '2011-04-25 20:45:00', 45)]\u001b[0m\n",
      "Answer:\u001b[32;1m\u001b[1;3mThe top 5 games by disposals but 0 brownlow votes are Matt Crouch (47 disposals on 2019-08-25 13:10:00), Tom Mitchell (46 disposals on 2018-05-20 15:20:00), Lachie Neale (46 disposals on 2021-08-28 19:30:00), Matt Priddis (45 disposals on 2008-06-27 19:40:00), and Matthew Boyd (45 disposals on 2011-04-25 20:45:00).\u001b[0m\n",
      "\u001b[1m> Finished chain.\u001b[0m\n"
     ]
    },
    {
     "data": {
      "text/plain": [
       "'The top 5 games by disposals but 0 brownlow votes are Matt Crouch (47 disposals on 2019-08-25 13:10:00), Tom Mitchell (46 disposals on 2018-05-20 15:20:00), Lachie Neale (46 disposals on 2021-08-28 19:30:00), Matt Priddis (45 disposals on 2008-06-27 19:40:00), and Matthew Boyd (45 disposals on 2011-04-25 20:45:00).'"
      ]
     },
     "execution_count": 44,
     "metadata": {},
     "output_type": "execute_result"
    }
   ],
   "source": [
    "db_chain.run(\"What are the top 5 games by disposals but 0 brownlow votes? Who, when, and how many disposals?\")"
   ]
  },
  {
   "cell_type": "code",
   "execution_count": 16,
   "metadata": {},
   "outputs": [
    {
     "name": "stdout",
     "output_type": "stream",
     "text": [
      "\n",
      "\n",
      "\u001b[1m> Entering new SQLDatabaseChain chain...\u001b[0m\n",
      "How many times has a player kicked 9 goals and at least 1 behind in a game? Tell me about those games, player, year, round etc.\n",
      "SQLQuery:\u001b[32;1m\u001b[1;3mSELECT player_name, year, round, team, opponent FROM player_stats WHERE goals = 9 AND behinds >= 1 LIMIT 5;\u001b[0m\n",
      "SQLResult: \u001b[33;1m\u001b[1;3m[('Gary Ablett', 1996, 1, 'GE', 'ME'), ('Stewart Loewe', 1996, 2, 'SK', 'GE'), ('Gary Ablett', 1996, 9, 'GE', 'CW'), ('Tony Lockett', 1996, 10, 'SY', 'FI'), ('Jason Dunstall', 1996, 11, 'HW', 'AD')]\u001b[0m\n",
      "Answer:\u001b[32;1m\u001b[1;3mThere have been 5 games in which a player kicked 9 goals and at least 1 behind. Those players were Gary Ablett (1996, Round 1, GE vs ME), Stewart Loewe (1996, Round 2, SK vs GE), Gary Ablett (1996, Round 9, GE vs CW), Tony Lockett (1996, Round 10, SY vs FI), and Jason Dunstall (1996, Round 11, HW vs AD).\u001b[0m\n",
      "\u001b[1m> Finished chain.\u001b[0m\n"
     ]
    },
    {
     "data": {
      "text/plain": [
       "'There have been 5 games in which a player kicked 9 goals and at least 1 behind. Those players were Gary Ablett (1996, Round 1, GE vs ME), Stewart Loewe (1996, Round 2, SK vs GE), Gary Ablett (1996, Round 9, GE vs CW), Tony Lockett (1996, Round 10, SY vs FI), and Jason Dunstall (1996, Round 11, HW vs AD).'"
      ]
     },
     "execution_count": 16,
     "metadata": {},
     "output_type": "execute_result"
    }
   ],
   "source": [
    "db_chain.run(\"How many times has a player kicked 9 goals and at least 1 behind in a game? Tell me about those games, player, year, round etc.\")"
   ]
  },
  {
   "cell_type": "code",
   "execution_count": 20,
   "metadata": {},
   "outputs": [
    {
     "name": "stdout",
     "output_type": "stream",
     "text": [
      "\n",
      "\n",
      "\u001b[1m> Entering new SQLDatabaseChain chain...\u001b[0m\n",
      "You are Anthony (Huddo) Hudson, an AFL commentator and stat expert. You also know SQL and have access to an SQLite3 database of AFL statistics.\n",
      "Given an input question, first create a syntactically correct SQLite3 query to run, then look at the results of the query and return the answer.\n",
      "Use the following format:\n",
      "\n",
      "Question: \"Question here\"\n",
      "SQLQuery: \"SQL Query to run\"\n",
      "SQLResult: \"Result of the SQLQuery\"\n",
      "Answer: \"Final answer here\"\n",
      "\n",
      "Only use the following tables:\n",
      "\n",
      "player_stats and game.\n",
      "\n",
      "Few shot examples:\n",
      "Question: \"How many goals did Zak Butters kick in 2023?\"\n",
      "SQLQuery: \"SELECT SUM(goals) FROM player_stats WHERE player_name = 'Zak Butters' AND year = 2023\"\n",
      "\n",
      "Question: \"How many goals did Max Gawn kick last year?\"\n",
      "SQLQuery = \"SELECT goals FROM player_stats WHERE player_name = 'Max Gawn' AND year = strftime('%Y', date('now', '-1 year'))\"\n",
      "\n",
      "Whenever you are asked a question, please return additional information that might be implied by the question, such as what year or round a statistic is from.\n",
      "\n",
      "If you get no result from the query, return \"No result\", and suggest a new query to run.\n",
      "\n",
      "Question: How many goals did Zak Butters kick last year?\n",
      "SQLQuery:\u001b[32;1m\u001b[1;3mSELECT SUM(goals) FROM player_stats WHERE player_name = 'Zak Butters' AND year = strftime('%Y', date('now', '-1 year'))\u001b[0m\n",
      "SQLResult: \u001b[33;1m\u001b[1;3m[(10,)]\u001b[0m\n",
      "Answer:\u001b[32;1m\u001b[1;3mZak Butters kicked 10 goals last year.\u001b[0m\n",
      "\u001b[1m> Finished chain.\u001b[0m\n"
     ]
    },
    {
     "data": {
      "text/plain": [
       "'Zak Butters kicked 10 goals last year.'"
      ]
     },
     "execution_count": 20,
     "metadata": {},
     "output_type": "execute_result"
    }
   ],
   "source": [
    "user_question = \"How many goals did Zak Butters kick last year?\"\n",
    "\n",
    "db_chain.run(TEMPLATE.format(user_question=user_question))\n"
   ]
  },
  {
   "cell_type": "code",
   "execution_count": 6,
   "metadata": {},
   "outputs": [
    {
     "name": "stdout",
     "output_type": "stream",
     "text": [
      "\n",
      "\n",
      "\u001b[1m> Entering new SQLDatabaseChain chain...\u001b[0m\n",
      "You are Anthony (Huddo) Hudson, an AFL commentator and stat expert. You also know SQL and have access to an SQLite3 database of AFL statistics.\n",
      "Given an input question, first create a syntactically correct SQLite3 query to run, then look at the results of the query and return the answer.\n",
      "Use the following format:\n",
      "\n",
      "Question: \"Question here\"\n",
      "SQLQuery: \"SQL Query to run\"\n",
      "SQLResult: \"Result of the SQLQuery\"\n",
      "Answer: \"Final answer here\"\n",
      "\n",
      "Only use the following tables:\n",
      "\n",
      "player_stats and game.\n",
      "\n",
      "Few shot examples:\n",
      "Question: \"How many goals did Zak Butters kick in 2023?\"\n",
      "SQLQuery: \"SELECT SUM(goals) FROM player_stats WHERE player_name = 'Zak Butters' AND year = 2023\"\n",
      "\n",
      "Question: \"How many goals did Max Gawn kick last year?\"\n",
      "SQLQuery = \"SELECT goals FROM player_stats WHERE player_name = 'Max Gawn' AND year = strftime('%Y', date('now', '-1 year'))\"\n",
      "\n",
      "Whenever you are asked a question, please return additional information that might be implied by the question, such as what year or round a statistic is from.\n",
      "\n",
      "If you get no result from the query, return \"No result\", and suggest a new query to run.\n",
      "\n",
      "Question: How good is Richmond?\n",
      "SQLQuery:\u001b[32;1m\u001b[1;3mSELECT AVG(hscore) FROM game WHERE hteam = 'Richmond'\u001b[0m\n",
      "SQLResult: \u001b[33;1m\u001b[1;3m[(90.56962025316456,)]\u001b[0m\n",
      "Answer:\u001b[32;1m\u001b[1;3mRichmond has an average score of 90.57.\u001b[0m\n",
      "\u001b[1m> Finished chain.\u001b[0m\n"
     ]
    }
   ],
   "source": [
    "user_question = \"How good is Richmond?\"\n",
    "res = db_chain.run(TEMPLATE.format(user_question=user_question))"
   ]
  }
 ],
 "metadata": {
  "kernelspec": {
   "display_name": "Python 3",
   "language": "python",
   "name": "python3"
  },
  "language_info": {
   "codemirror_mode": {
    "name": "ipython",
    "version": 3
   },
   "file_extension": ".py",
   "mimetype": "text/x-python",
   "name": "python",
   "nbconvert_exporter": "python",
   "pygments_lexer": "ipython3",
   "version": "3.9.0"
  }
 },
 "nbformat": 4,
 "nbformat_minor": 2
}
