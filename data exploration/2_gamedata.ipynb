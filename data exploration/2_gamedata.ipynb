{
 "cells": [
  {
   "cell_type": "code",
   "execution_count": 43,
   "metadata": {},
   "outputs": [],
   "source": [
    "import requests\n",
    "import pandas as pd\n",
    "import datetime\n",
    "import time\n",
    "from tqdm import tqdm\n",
    "pd.set_option('display.max_columns', None)"
   ]
  },
  {
   "cell_type": "code",
   "execution_count": 44,
   "metadata": {},
   "outputs": [
    {
     "name": "stderr",
     "output_type": "stream",
     "text": [
      "100%|██████████| 28/28 [00:00<00:00, 95.61it/s]\n"
     ]
    }
   ],
   "source": [
    "def get_all_match_data(headers):\n",
    "    data = {}\n",
    "    current_year = datetime.datetime.now().year\n",
    "    years = range(1996, current_year+1)\n",
    "    rounds = range(1, 29)\n",
    "    for year in tqdm(years):\n",
    "        for round in rounds:\n",
    "            r = requests.get('https://api.squiggle.com.au/?q=games;year={};round={}'.format(year, round), headers=headers)\n",
    "            games = r.json()\n",
    "            games_df = pd.DataFrame(games['games'])\n",
    "            data['{}-{}'.format(year, round)] = games_df\n",
    "            time.sleep(1)\n",
    "    return data\n",
    "\n",
    "headers = {\n",
    "    'User-Agent': 'AFLNaturalLanguageQueryBuilder/1.0 (tobyprofitt1@gmail.com)'\n",
    "}\n",
    "\n",
    "def load_all_from_csv(path):\n",
    "    data = {}\n",
    "    current_year = datetime.datetime.now().year\n",
    "    years = range(1996, current_year+1)\n",
    "    for year in tqdm(years):\n",
    "        try:\n",
    "            games_df = pd.read_csv('{}{}.csv'.format(path, year))\n",
    "            data['{}'.format(year)] = games_df\n",
    "        except:\n",
    "            pass\n",
    "    return data\n",
    "\n",
    "# data = get_all_match_data(headers)\n",
    "path_to_data = '../data/matchinfo/'\n",
    "data = load_all_from_csv(path_to_data)"
   ]
  },
  {
   "cell_type": "code",
   "execution_count": 45,
   "metadata": {},
   "outputs": [],
   "source": [
    "def save_to_csv():\n",
    "    years = range(1996, 2024)\n",
    "    rounds = range(1, 29)\n",
    "    for year in years:\n",
    "        # Stack each round of each year on top of each other\n",
    "        df = pd.concat([data['{}'.format(year)] for _ in rounds])\n",
    "            \n",
    "        if not df.empty:\n",
    "            df.to_csv('../data/matchinfo/{}.csv'.format(year), index=False)"
   ]
  },
  {
   "cell_type": "markdown",
   "metadata": {},
   "source": [
    "## Now add to database"
   ]
  },
  {
   "cell_type": "code",
   "execution_count": 46,
   "metadata": {},
   "outputs": [],
   "source": [
    "import sqlite3\n",
    "\n",
    "conn = sqlite3.connect('../afl.db')"
   ]
  },
  {
   "cell_type": "code",
   "execution_count": 47,
   "metadata": {},
   "outputs": [
    {
     "data": {
      "text/plain": [
       "<sqlite3.Cursor at 0x1e56008f6c0>"
      ]
     },
     "execution_count": 47,
     "metadata": {},
     "output_type": "execute_result"
    }
   ],
   "source": [
    "MATCHINFO = '''\n",
    "CREATE TABLE game (\n",
    "    round INTEGER,\n",
    "    agoals INTEGER,\n",
    "    game_id INTEGER PRIMARY KEY,\n",
    "    unixtime INTEGER,\n",
    "    date TEXT,\n",
    "    hteamid INTEGER,\n",
    "    ateam TEXT,\n",
    "    tz TEXT,\n",
    "    venue TEXT,\n",
    "    localtime TEXT,\n",
    "    winner TEXT, -- draw if winner = None\n",
    "    complete INTEGER,\n",
    "    hbehinds INTEGER,\n",
    "    ascore INTEGER,\n",
    "    roundname TEXT,\n",
    "    year INTEGER,\n",
    "    is_final INTEGER,\n",
    "    hscore INTEGER,\n",
    "    abehinds INTEGER,\n",
    "    is_grand_final INTEGER,\n",
    "    updated TEXT,\n",
    "    hgoals INTEGER,\n",
    "    timestr TEXT,\n",
    "    hteam TEXT,\n",
    "    winnerteamid REAL,\n",
    "    ateamid INTEGER\n",
    ");\n",
    "'''\n",
    "\n",
    "conn.execute(\"DROP TABLE IF EXISTS game\")\n",
    "\n",
    "conn.execute(MATCHINFO)"
   ]
  },
  {
   "cell_type": "code",
   "execution_count": 48,
   "metadata": {},
   "outputs": [],
   "source": [
    "# Stack dataframes on top of each other to each year, and add year column\n",
    "years = range(1996, 2024)\n",
    "rounds = range(1, 29)\n",
    "df = pd.DataFrame()\n",
    "for year in years:\n",
    "    temp_df = data['{}'.format(year)]\n",
    "    temp_df['year'] = year\n",
    "    df = pd.concat([df, temp_df])\n",
    "# Rename id column to game_id\n",
    "df.rename(columns={'id': 'game_id'}, inplace=True)"
   ]
  },
  {
   "cell_type": "code",
   "execution_count": 49,
   "metadata": {},
   "outputs": [],
   "source": [
    "# Replace the `round` column with a simplified version of the roundname column.\n",
    "# 1: First remove \"Round \" from the start and replace in df\n",
    "df['round'] = df['roundname'].str.replace('Round ', '')\n",
    "\n",
    "# 2: Then apply the mapping selectively\n",
    "mapping = {\n",
    "    'Semi-Finals': 'Semi Final',\n",
    "    'Preliminary Finals': 'Preliminary Final',\n",
    "}\n",
    "\n",
    "# Update only the specific values that are in the mapping\n",
    "for original, new in mapping.items():\n",
    "    df.loc[df['round'] == original, 'round'] = new\n"
   ]
  },
  {
   "cell_type": "code",
   "execution_count": 50,
   "metadata": {},
   "outputs": [
    {
     "data": {
      "text/plain": [
       "5419"
      ]
     },
     "execution_count": 50,
     "metadata": {},
     "output_type": "execute_result"
    }
   ],
   "source": [
    "# Insert the data into the database\n",
    "df.to_sql('game', conn, if_exists='append', index=False)"
   ]
  },
  {
   "cell_type": "code",
   "execution_count": 51,
   "metadata": {},
   "outputs": [
    {
     "name": "stdout",
     "output_type": "stream",
     "text": [
      "5419\n"
     ]
    }
   ],
   "source": [
    "# Check the data has been inserted\n",
    "print(len(conn.execute('SELECT * FROM game').fetchall()))"
   ]
  },
  {
   "cell_type": "code",
   "execution_count": 55,
   "metadata": {},
   "outputs": [
    {
     "data": {
      "text/html": [
       "<div>\n",
       "<style scoped>\n",
       "    .dataframe tbody tr th:only-of-type {\n",
       "        vertical-align: middle;\n",
       "    }\n",
       "\n",
       "    .dataframe tbody tr th {\n",
       "        vertical-align: top;\n",
       "    }\n",
       "\n",
       "    .dataframe thead th {\n",
       "        text-align: right;\n",
       "    }\n",
       "</style>\n",
       "<table border=\"1\" class=\"dataframe\">\n",
       "  <thead>\n",
       "    <tr style=\"text-align: right;\">\n",
       "      <th></th>\n",
       "      <th>round</th>\n",
       "      <th>agoals</th>\n",
       "      <th>game_id</th>\n",
       "      <th>unixtime</th>\n",
       "      <th>date</th>\n",
       "      <th>hteamid</th>\n",
       "      <th>ateam</th>\n",
       "      <th>tz</th>\n",
       "      <th>venue</th>\n",
       "      <th>localtime</th>\n",
       "      <th>winner</th>\n",
       "      <th>complete</th>\n",
       "      <th>hbehinds</th>\n",
       "      <th>ascore</th>\n",
       "      <th>roundname</th>\n",
       "      <th>year</th>\n",
       "      <th>is_final</th>\n",
       "      <th>hscore</th>\n",
       "      <th>abehinds</th>\n",
       "      <th>is_grand_final</th>\n",
       "      <th>updated</th>\n",
       "      <th>hgoals</th>\n",
       "      <th>timestr</th>\n",
       "      <th>hteam</th>\n",
       "      <th>winnerteamid</th>\n",
       "      <th>ateamid</th>\n",
       "    </tr>\n",
       "  </thead>\n",
       "  <tbody>\n",
       "    <tr>\n",
       "      <th>0</th>\n",
       "      <td>1</td>\n",
       "      <td>20</td>\n",
       "      <td>1</td>\n",
       "      <td>1490257200</td>\n",
       "      <td>2017-03-23 19:20:00</td>\n",
       "      <td>3</td>\n",
       "      <td>Richmond</td>\n",
       "      <td>+11:00</td>\n",
       "      <td>M.C.G.</td>\n",
       "      <td>2017-03-23 19:20:00</td>\n",
       "      <td>Richmond</td>\n",
       "      <td>100</td>\n",
       "      <td>5</td>\n",
       "      <td>132</td>\n",
       "      <td>Round 1</td>\n",
       "      <td>2017</td>\n",
       "      <td>0</td>\n",
       "      <td>89</td>\n",
       "      <td>12</td>\n",
       "      <td>0</td>\n",
       "      <td>2017-04-15 15:59:16</td>\n",
       "      <td>14</td>\n",
       "      <td>Full Time</td>\n",
       "      <td>Carlton</td>\n",
       "      <td>14.0</td>\n",
       "      <td>14</td>\n",
       "    </tr>\n",
       "  </tbody>\n",
       "</table>\n",
       "</div>"
      ],
      "text/plain": [
       "  round  agoals  game_id    unixtime                 date  hteamid     ateam  \\\n",
       "0     1      20        1  1490257200  2017-03-23 19:20:00        3  Richmond   \n",
       "\n",
       "       tz   venue            localtime    winner  complete  hbehinds  ascore  \\\n",
       "0  +11:00  M.C.G.  2017-03-23 19:20:00  Richmond       100         5     132   \n",
       "\n",
       "  roundname  year  is_final  hscore  abehinds  is_grand_final  \\\n",
       "0   Round 1  2017         0      89        12               0   \n",
       "\n",
       "               updated  hgoals    timestr    hteam  winnerteamid  ateamid  \n",
       "0  2017-04-15 15:59:16      14  Full Time  Carlton          14.0       14  "
      ]
     },
     "execution_count": 55,
     "metadata": {},
     "output_type": "execute_result"
    }
   ],
   "source": [
    "dbdata = pd.read_sql('SELECT * FROM game', conn)\n",
    "dbdata.head(1)"
   ]
  }
 ],
 "metadata": {
  "kernelspec": {
   "display_name": "Python 3",
   "language": "python",
   "name": "python3"
  },
  "language_info": {
   "codemirror_mode": {
    "name": "ipython",
    "version": 3
   },
   "file_extension": ".py",
   "mimetype": "text/x-python",
   "name": "python",
   "nbconvert_exporter": "python",
   "pygments_lexer": "ipython3",
   "version": "3.9.0"
  }
 },
 "nbformat": 4,
 "nbformat_minor": 2
}
