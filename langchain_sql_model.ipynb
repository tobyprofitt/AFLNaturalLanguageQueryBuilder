{
 "cells": [
  {
   "cell_type": "code",
   "execution_count": 2,
   "metadata": {},
   "outputs": [],
   "source": [
    "import langchain\n",
    "from dotenv import load_dotenv\n",
    "import os"
   ]
  },
  {
   "cell_type": "code",
   "execution_count": 3,
   "metadata": {},
   "outputs": [],
   "source": [
    "load_dotenv()  # This loads the .env variables into the environment\n",
    "\n",
    "secret_key = os.getenv('SQL_KEY')\n",
    "OPENAI_API_KEY = os.getenv('OPENAI_API_KEY')"
   ]
  },
  {
   "cell_type": "code",
   "execution_count": 4,
   "metadata": {},
   "outputs": [],
   "source": [
    "from langchain.llms import OpenAI\n",
    "from langchain.utilities import SQLDatabase\n",
    "from langchain_experimental.sql import SQLDatabaseChain\n",
    "\n",
    "db = SQLDatabase.from_uri(\"sqlite:///afl.db\")\n",
    "llm = OpenAI(temperature=0, verbose=True)\n",
    "db_chain = SQLDatabaseChain.from_llm(llm, db, verbose=True)"
   ]
  },
  {
   "cell_type": "code",
   "execution_count": 5,
   "metadata": {},
   "outputs": [
    {
     "name": "stdout",
     "output_type": "stream",
     "text": [
      "\n",
      "\n",
      "\u001b[1m> Entering new SQLDatabaseChain chain...\u001b[0m\n",
      "In how many games did Christian Petracca have more disposals than Clayton Oliver in 2022?\n",
      "SQLQuery:\u001b[32;1m\u001b[1;3mSELECT COUNT(*) FROM player_stats WHERE year = 2022 AND player_name = 'Christian Petracca' AND disp > (SELECT disp FROM player_stats WHERE year = 2022 AND player_name = 'Clayton Oliver');\u001b[0m\n",
      "SQLResult: \u001b[33;1m\u001b[1;3m[(5,)]\u001b[0m\n",
      "Answer:\u001b[32;1m\u001b[1;3mChristian Petracca had more disposals than Clayton Oliver in 5 games in 2022.\u001b[0m\n",
      "\u001b[1m> Finished chain.\u001b[0m\n"
     ]
    },
    {
     "data": {
      "text/plain": [
       "'Christian Petracca had more disposals than Clayton Oliver in 5 games in 2022.'"
      ]
     },
     "execution_count": 5,
     "metadata": {},
     "output_type": "execute_result"
    }
   ],
   "source": [
    "db_chain.run(\"In how many games did Christian Petracca have more disposals than Clayton Oliver in 2022?\")"
   ]
  },
  {
   "cell_type": "code",
   "execution_count": 7,
   "metadata": {},
   "outputs": [
    {
     "name": "stdout",
     "output_type": "stream",
     "text": [
      "\n",
      "\n",
      "\u001b[1m> Entering new SQLDatabaseChain chain...\u001b[0m\n",
      "How many times has Harris Andrews had the most One Percenters in a given match?\n",
      "SQLQuery:\u001b[32;1m\u001b[1;3mSELECT COUNT(*) FROM player_stats WHERE player_name = 'Harris Andrews' AND one_percenters = (SELECT MAX(one_percenters) FROM player_stats);\u001b[0m\n",
      "SQLResult: \u001b[33;1m\u001b[1;3m[(1,)]\u001b[0m\n",
      "Answer:\u001b[32;1m\u001b[1;3mHarris Andrews has had the most One Percenters in a given match 1 time.\u001b[0m\n",
      "\u001b[1m> Finished chain.\u001b[0m\n"
     ]
    },
    {
     "data": {
      "text/plain": [
       "'Harris Andrews has had the most One Percenters in a given match 1 time.'"
      ]
     },
     "execution_count": 7,
     "metadata": {},
     "output_type": "execute_result"
    }
   ],
   "source": [
    "db_chain.run(\"How many times has Harris Andrews had the most One Percenters in a given match?\")\n",
    "# SELECT COUNT(*) FROM player_stats WHERE one_percenters = (SELECT MAX(one_percenters) FROM player_stats WHERE player_name = 'Harris Andrews');\n",
    "# SELECT COUNT(*) FROM player_stats WHERE player_name = 'Harris Andrews' AND one_percenters = (SELECT MAX(one_percenters) FROM player_stats);\n",
    "# BOTH WRONG. I THINK IT NEEDS TO BE GIVEN A MATCH_ID IN THE DATABASE."
   ]
  },
  {
   "cell_type": "code",
   "execution_count": 11,
   "metadata": {},
   "outputs": [
    {
     "name": "stdout",
     "output_type": "stream",
     "text": [
      "\n",
      "\n",
      "\u001b[1m> Entering new SQLDatabaseChain chain...\u001b[0m\n",
      "What is the lowest number of disposals for which a player has received 3 brownlow votes? Who was it and what year and round?\n",
      "SQLQuery:\u001b[32;1m\u001b[1;3mSELECT player_name, year, round, MIN(disp) FROM player_stats WHERE brownlow = 3;\u001b[0m\n",
      "SQLResult: \u001b[33;1m\u001b[1;3m[('Max King', 2022, 10, 7)]\u001b[0m\n",
      "Answer:\u001b[32;1m\u001b[1;3mThe lowest number of disposals for which a player has received 3 brownlow votes was 7, by Max King in round 10 of 2022.\u001b[0m\n",
      "\u001b[1m> Finished chain.\u001b[0m\n"
     ]
    },
    {
     "data": {
      "text/plain": [
       "'The lowest number of disposals for which a player has received 3 brownlow votes was 7, by Max King in round 10 of 2022.'"
      ]
     },
     "execution_count": 11,
     "metadata": {},
     "output_type": "execute_result"
    }
   ],
   "source": [
    "db_chain.run(\"What is the lowest number of disposals for which a player has received 3 brownlow votes? Who was it and what year and round?\")\n",
    "# Correct!"
   ]
  },
  {
   "cell_type": "code",
   "execution_count": 12,
   "metadata": {},
   "outputs": [
    {
     "name": "stdout",
     "output_type": "stream",
     "text": [
      "\n",
      "\n",
      "\u001b[1m> Entering new SQLDatabaseChain chain...\u001b[0m\n",
      "How many games have Christian Petracca and Clayton Oliver played together?\n",
      "SQLQuery:\u001b[32;1m\u001b[1;3mSELECT COUNT(*) FROM player_stats WHERE player_name IN ('Christian Petracca', 'Clayton Oliver') GROUP BY round, year HAVING COUNT(*) > 1;\u001b[0m\n",
      "SQLResult: \u001b[33;1m\u001b[1;3m[(2,), (2,), (2,), (2,), (2,), (2,), (2,), (2,), (2,), (2,), (2,), (2,), (2,), (2,), (2,), (2,), (2,), (2,), (2,), (2,), (2,), (2,), (2,), (2,), (2,), (2,), (2,), (2,), (2,), (2,), (2,), (2,), (2,), (2,), (2,), (2,), (2,), (2,), (2,), (2,), (2,), (2,), (2,), (2,), (2,), (2,), (2,), (2,), (2,), (2,), (2,), (2,), (2,), (2,), (2,), (2,), (2,), (2,), (2,), (2,), (2,), (2,), (2,), (2,), (2,), (2,), (2,), (2,), (2,), (2,), (2,), (2,), (2,), (2,), (2,), (2,), (2,), (2,), (2,), (2,), (2,), (2,), (2,), (2,), (2,), (2,), (2,), (2,), (2,), (2,), (2,), (2,), (2,), (2,), (2,), (2,), (2,), (2,), (2,), (2,), (2,), (2,), (2,), (2,), (2,), (2,), (2,), (2,), (2,), (2,), (2,), (2,), (2,), (2,), (2,), (2,), (2,), (2,), (2,), (2,), (2,), (2,), (2,), (2,), (2,), (2,), (2,), (2,), (2,), (2,), (2,), (2,), (2,), (2,), (2,), (2,), (2,), (2,), (2,), (2,), (2,), (2,), (2,), (2,), (2,), (2,), (2,), (2,), (2,), (2,), (2,), (2,), (2,), (2,), (2,), (2,), (2,)]\u001b[0m\n",
      "Answer:\u001b[32;1m\u001b[1;3mChristian Petracca and Clayton Oliver have played together in 92 games.\u001b[0m\n",
      "\u001b[1m> Finished chain.\u001b[0m\n"
     ]
    },
    {
     "data": {
      "text/plain": [
       "'Christian Petracca and Clayton Oliver have played together in 92 games.'"
      ]
     },
     "execution_count": 12,
     "metadata": {},
     "output_type": "execute_result"
    }
   ],
   "source": [
    "db_chain.run(\"How many games have Christian Petracca and Clayton Oliver played together?\")"
   ]
  },
  {
   "cell_type": "code",
   "execution_count": 13,
   "metadata": {},
   "outputs": [
    {
     "name": "stdout",
     "output_type": "stream",
     "text": [
      "\n",
      "\n",
      "\u001b[1m> Entering new SQLDatabaseChain chain...\u001b[0m\n",
      "What are the top 5 games by disposals but 0 brownlow votes? Who, when, and how many disposals?\n",
      "SQLQuery:\u001b[32;1m\u001b[1;3mSELECT player_name, year, round, disp FROM player_stats WHERE brownlow = 0 ORDER BY disp DESC LIMIT 5;\u001b[0m\n",
      "SQLResult: \u001b[33;1m\u001b[1;3m[('Matt Crouch', 2019, 23, 47), ('Tom Mitchell', 2018, 9, 46), ('Lachie Neale', 2021, 'QF', 46), ('Matt Priddis', 2008, 14, 45), ('Matthew Boyd', 2011, 5, 45)]\u001b[0m\n",
      "Answer:\u001b[32;1m\u001b[1;3mThe top 5 games by disposals but 0 brownlow votes are Matt Crouch in 2019 Round 23 with 47 disposals, Tom Mitchell in 2018 Round 9 with 46 disposals, Lachie Neale in 2021 Qualifying Final with 46 disposals, Matt Priddis in 2008 Round 14 with 45 disposals, and Matthew Boyd in 2011 Round 5 with 45 disposals.\u001b[0m\n",
      "\u001b[1m> Finished chain.\u001b[0m\n"
     ]
    },
    {
     "data": {
      "text/plain": [
       "'The top 5 games by disposals but 0 brownlow votes are Matt Crouch in 2019 Round 23 with 47 disposals, Tom Mitchell in 2018 Round 9 with 46 disposals, Lachie Neale in 2021 Qualifying Final with 46 disposals, Matt Priddis in 2008 Round 14 with 45 disposals, and Matthew Boyd in 2011 Round 5 with 45 disposals.'"
      ]
     },
     "execution_count": 13,
     "metadata": {},
     "output_type": "execute_result"
    }
   ],
   "source": [
    "db_chain.run(\"What are the top 5 games by disposals but 0 brownlow votes? Who, when, and how many disposals?\")"
   ]
  },
  {
   "cell_type": "code",
   "execution_count": 16,
   "metadata": {},
   "outputs": [
    {
     "name": "stdout",
     "output_type": "stream",
     "text": [
      "\n",
      "\n",
      "\u001b[1m> Entering new SQLDatabaseChain chain...\u001b[0m\n",
      "How many times has a player kicked 9 goals and at least 1 behind in a game? Tell me about those games, player, year, round etc.\n",
      "SQLQuery:\u001b[32;1m\u001b[1;3mSELECT player_name, year, round, team, opponent FROM player_stats WHERE goals = 9 AND behinds >= 1 LIMIT 5;\u001b[0m\n",
      "SQLResult: \u001b[33;1m\u001b[1;3m[('Gary Ablett', 1996, 1, 'GE', 'ME'), ('Stewart Loewe', 1996, 2, 'SK', 'GE'), ('Gary Ablett', 1996, 9, 'GE', 'CW'), ('Tony Lockett', 1996, 10, 'SY', 'FI'), ('Jason Dunstall', 1996, 11, 'HW', 'AD')]\u001b[0m\n",
      "Answer:\u001b[32;1m\u001b[1;3mThere have been 5 games in which a player kicked 9 goals and at least 1 behind. Those players were Gary Ablett (1996, Round 1, GE vs ME), Stewart Loewe (1996, Round 2, SK vs GE), Gary Ablett (1996, Round 9, GE vs CW), Tony Lockett (1996, Round 10, SY vs FI), and Jason Dunstall (1996, Round 11, HW vs AD).\u001b[0m\n",
      "\u001b[1m> Finished chain.\u001b[0m\n"
     ]
    },
    {
     "data": {
      "text/plain": [
       "'There have been 5 games in which a player kicked 9 goals and at least 1 behind. Those players were Gary Ablett (1996, Round 1, GE vs ME), Stewart Loewe (1996, Round 2, SK vs GE), Gary Ablett (1996, Round 9, GE vs CW), Tony Lockett (1996, Round 10, SY vs FI), and Jason Dunstall (1996, Round 11, HW vs AD).'"
      ]
     },
     "execution_count": 16,
     "metadata": {},
     "output_type": "execute_result"
    }
   ],
   "source": [
    "db_chain.run(\"How many times has a player kicked 9 goals and at least 1 behind in a game? Tell me about those games, player, year, round etc.\")"
   ]
  }
 ],
 "metadata": {
  "kernelspec": {
   "display_name": "Python 3",
   "language": "python",
   "name": "python3"
  },
  "language_info": {
   "codemirror_mode": {
    "name": "ipython",
    "version": 3
   },
   "file_extension": ".py",
   "mimetype": "text/x-python",
   "name": "python",
   "nbconvert_exporter": "python",
   "pygments_lexer": "ipython3",
   "version": "3.10.2"
  }
 },
 "nbformat": 4,
 "nbformat_minor": 2
}
