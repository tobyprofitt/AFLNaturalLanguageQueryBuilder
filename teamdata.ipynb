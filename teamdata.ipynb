{
 "cells": [
  {
   "cell_type": "code",
   "execution_count": 2,
   "metadata": {},
   "outputs": [],
   "source": [
    "import requests\n",
    "import pandas as pd\n",
    "import json"
   ]
  },
  {
   "cell_type": "code",
   "execution_count": 8,
   "metadata": {},
   "outputs": [],
   "source": [
    "# TEAMS end point\n",
    "headers = {\n",
    "    'User-Agent': 'AFLNaturalLanguageQueryBuilder/1.0 (tobyprofitt1@gmail.com)'\n",
    "}\n",
    "\n",
    "r = requests.get('https://api.squiggle.com.au/?q=teams', headers=headers)\n",
    "teams = r.json()"
   ]
  },
  {
   "cell_type": "code",
   "execution_count": 12,
   "metadata": {},
   "outputs": [
    {
     "data": {
      "text/html": [
       "<div>\n",
       "<style scoped>\n",
       "    .dataframe tbody tr th:only-of-type {\n",
       "        vertical-align: middle;\n",
       "    }\n",
       "\n",
       "    .dataframe tbody tr th {\n",
       "        vertical-align: top;\n",
       "    }\n",
       "\n",
       "    .dataframe thead th {\n",
       "        text-align: right;\n",
       "    }\n",
       "</style>\n",
       "<table border=\"1\" class=\"dataframe\">\n",
       "  <thead>\n",
       "    <tr style=\"text-align: right;\">\n",
       "      <th></th>\n",
       "      <th>logo</th>\n",
       "      <th>retirement</th>\n",
       "      <th>abbrev</th>\n",
       "      <th>id</th>\n",
       "      <th>debut</th>\n",
       "      <th>name</th>\n",
       "    </tr>\n",
       "  </thead>\n",
       "  <tbody>\n",
       "    <tr>\n",
       "      <th>0</th>\n",
       "      <td>/wp-content/themes/squiggle/assets/images/Adel...</td>\n",
       "      <td>9999</td>\n",
       "      <td>ADE</td>\n",
       "      <td>1</td>\n",
       "      <td>1991</td>\n",
       "      <td>Adelaide</td>\n",
       "    </tr>\n",
       "    <tr>\n",
       "      <th>1</th>\n",
       "      <td>/wp-content/themes/squiggle/assets/images/Bris...</td>\n",
       "      <td>9999</td>\n",
       "      <td>BRI</td>\n",
       "      <td>2</td>\n",
       "      <td>1987</td>\n",
       "      <td>Brisbane Lions</td>\n",
       "    </tr>\n",
       "    <tr>\n",
       "      <th>2</th>\n",
       "      <td>/wp-content/themes/squiggle/assets/images/Carl...</td>\n",
       "      <td>9999</td>\n",
       "      <td>CAR</td>\n",
       "      <td>3</td>\n",
       "      <td>1897</td>\n",
       "      <td>Carlton</td>\n",
       "    </tr>\n",
       "    <tr>\n",
       "      <th>3</th>\n",
       "      <td>/wp-content/themes/squiggle/assets/images/Coll...</td>\n",
       "      <td>9999</td>\n",
       "      <td>COL</td>\n",
       "      <td>4</td>\n",
       "      <td>1897</td>\n",
       "      <td>Collingwood</td>\n",
       "    </tr>\n",
       "    <tr>\n",
       "      <th>4</th>\n",
       "      <td>/wp-content/themes/squiggle/assets/images/Esse...</td>\n",
       "      <td>9999</td>\n",
       "      <td>ESS</td>\n",
       "      <td>5</td>\n",
       "      <td>1897</td>\n",
       "      <td>Essendon</td>\n",
       "    </tr>\n",
       "  </tbody>\n",
       "</table>\n",
       "</div>"
      ],
      "text/plain": [
       "                                                logo  retirement abbrev  id  \\\n",
       "0  /wp-content/themes/squiggle/assets/images/Adel...        9999    ADE   1   \n",
       "1  /wp-content/themes/squiggle/assets/images/Bris...        9999    BRI   2   \n",
       "2  /wp-content/themes/squiggle/assets/images/Carl...        9999    CAR   3   \n",
       "3  /wp-content/themes/squiggle/assets/images/Coll...        9999    COL   4   \n",
       "4  /wp-content/themes/squiggle/assets/images/Esse...        9999    ESS   5   \n",
       "\n",
       "   debut            name  \n",
       "0   1991        Adelaide  \n",
       "1   1987  Brisbane Lions  \n",
       "2   1897         Carlton  \n",
       "3   1897     Collingwood  \n",
       "4   1897        Essendon  "
      ]
     },
     "execution_count": 12,
     "metadata": {},
     "output_type": "execute_result"
    }
   ],
   "source": [
    "# load teams from json into pandas dataframe\n",
    "df_teams = pd.DataFrame(teams['teams'])\n",
    "df_teams.head()"
   ]
  }
 ],
 "metadata": {
  "kernelspec": {
   "display_name": "Python 3",
   "language": "python",
   "name": "python3"
  },
  "language_info": {
   "codemirror_mode": {
    "name": "ipython",
    "version": 3
   },
   "file_extension": ".py",
   "mimetype": "text/x-python",
   "name": "python",
   "nbconvert_exporter": "python",
   "pygments_lexer": "ipython3",
   "version": "3.9.0"
  }
 },
 "nbformat": 4,
 "nbformat_minor": 2
}
